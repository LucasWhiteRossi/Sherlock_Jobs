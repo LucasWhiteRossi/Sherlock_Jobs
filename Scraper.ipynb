{
 "cells": [
  {
   "cell_type": "markdown",
   "metadata": {
    "ExecuteTime": {
     "end_time": "2020-05-05T14:39:51.613723Z",
     "start_time": "2020-05-05T14:39:51.600714Z"
    },
    "scrolled": true
   },
   "source": [
    "# Importing Libraries"
   ]
  },
  {
   "cell_type": "code",
   "execution_count": 1,
   "metadata": {
    "ExecuteTime": {
     "end_time": "2020-05-07T13:21:32.211693Z",
     "start_time": "2020-05-07T13:21:28.183496Z"
    }
   },
   "outputs": [],
   "source": [
    "# System\n",
    "import pandas as pd\n",
    "import numpy as np\n",
    "import matplotlib.pyplot as plt\n",
    "import seaborn as sns\n",
    "import logging \n",
    "from selenium import webdriver\n",
    "from selenium.webdriver.common.by import By\n",
    "from selenium.webdriver.support.ui import WebDriverWait\n",
    "from selenium.webdriver.support import expected_conditions as EC\n",
    "from datetime import date\n",
    "from time import sleep\n",
    "import re"
   ]
  },
  {
   "cell_type": "code",
   "execution_count": null,
   "metadata": {
    "ExecuteTime": {
     "end_time": "2020-05-07T13:21:32.462535Z",
     "start_time": "2020-05-07T13:21:27.969Z"
    }
   },
   "outputs": [],
   "source": [
    "print(f'''\n",
    "      ******************\n",
    "      *Library version:*\n",
    "      ******************\n",
    "      pandas:{pd.__version__}\n",
    "      numpy:{np.__version__}\n",
    "      seaborn:{sns.__version__}\n",
    "      selenium:{webdriver.__version__}\n",
    "      re:{re.__version__}\n",
    "      ''')\n"
   ]
  },
  {
   "cell_type": "markdown",
   "metadata": {},
   "source": [
    "# MAIN: Scraper class & analysis functions"
   ]
  },
  {
   "cell_type": "code",
   "execution_count": 2,
   "metadata": {
    "ExecuteTime": {
     "end_time": "2020-05-07T13:24:01.775014Z",
     "start_time": "2020-05-07T13:21:57.878925Z"
    },
    "code_folding": []
   },
   "outputs": [
    {
     "name": "stdout",
     "output_type": "stream",
     "text": [
      "Escreva a vaga procurada.Cientista de Dados\n",
      "Escreva a cidade, estado ou região de interesse.São Paulo, SP\n",
      "Erro ao escanear a página:  Message: element click intercepted: Element <a href=\"https://www.catho.com.br/vagas/analista-de-business-intelligence/16371211/?origem_apply=busca-de-vagas&amp;entrada_apply=direto\" title=\"Vaga de Analista de Business Intelligence em Barueri - SP\" class=\"viewVagaAction \" rel=\"nofollow\">...</a> is not clickable at point (607, 681). Other element would receive the click: <strong class=\"nomeEmpresa\">...</strong>\n",
      "  (Session info: chrome=81.0.4044.129)\n",
      "\n",
      "Erro ao escanear a página:  Message: element click intercepted: Element <a href=\"https://www.catho.com.br/vagas/analista-de-business-intelligence/16581467/?origem_apply=busca-de-vagas&amp;entrada_apply=direto\" title=\"Vaga de Analista de Business Intelligence em São Paulo - SP\" class=\"viewVagaAction \" rel=\"nofollow\">...</a> is not clickable at point (607, 603). Other element would receive the click: <div class=\"vagContainer\" style=\"display: block;\">...</div>\n",
      "  (Session info: chrome=81.0.4044.129)\n",
      "\n",
      "Erro ao escanear a página:  Message: no such element: Unable to locate element: {\"method\":\"xpath\",\"selector\":\"/html/body/div[1]/article/section/ul/li[4]/section/div/header/h2/a\"}\n",
      "  (Session info: chrome=81.0.4044.129)\n",
      "\n",
      "Erro ao escanear a página:  Message: no such element: Unable to locate element: {\"method\":\"xpath\",\"selector\":\"/html/body/div[1]/article/section/ul/li[5]/section/div/header/h2/a\"}\n",
      "  (Session info: chrome=81.0.4044.129)\n",
      "\n",
      "Erro ao escanear a página:  Message: no such element: Unable to locate element: {\"method\":\"xpath\",\"selector\":\"/html/body/div[1]/article/section/ul/li[6]/section/div/header/h2/a\"}\n",
      "  (Session info: chrome=81.0.4044.129)\n",
      "\n",
      "Erro ao escanear a página:  Message: no such element: Unable to locate element: {\"method\":\"xpath\",\"selector\":\"/html/body/div[1]/article/section/ul/li[7]/section/div/header/h2/a\"}\n",
      "  (Session info: chrome=81.0.4044.129)\n",
      "\n",
      "Erro ao escanear a página:  Message: no such element: Unable to locate element: {\"method\":\"xpath\",\"selector\":\"/html/body/div[1]/article/section/ul/li[8]/section/div/header/h2/a\"}\n",
      "  (Session info: chrome=81.0.4044.129)\n",
      "\n",
      "Erro ao escanear a página:  Message: no such element: Unable to locate element: {\"method\":\"xpath\",\"selector\":\"/html/body/div[1]/article/section/ul/li[9]/section/div/header/h2/a\"}\n",
      "  (Session info: chrome=81.0.4044.129)\n",
      "\n",
      "Erro ao escanear a página:  Message: no such element: Unable to locate element: {\"method\":\"xpath\",\"selector\":\"/html/body/div[1]/article/section/ul/li[10]/section/div/header/h2/a\"}\n",
      "  (Session info: chrome=81.0.4044.129)\n",
      "\n"
     ]
    }
   ],
   "source": [
    "class ChromeAuto:\n",
    "    def __init__(self):\n",
    "        self.driver_path = '../chromedriver_win32/chromedriver.exe'\n",
    "        self.options = webdriver.ChromeOptions()\n",
    "        self.options.add_argument('user-data-dir=JobProfile')\n",
    "        self.chrome = webdriver.Chrome(\n",
    "                                        executable_path=self.driver_path,\n",
    "                                        options=self.options\n",
    "                                      )\n",
    "        \n",
    "    def acessa(self, site):\n",
    "        self.chrome.get(site)\n",
    "    \n",
    "    def sair(self):\n",
    "        self.chrome.quit()\n",
    "    \n",
    "    def insere_job(self, job_to_search):\n",
    "        try:\n",
    "            job = self.chrome.find_element_by_css_selector('#cargoDesejado')\n",
    "            job.clear()\n",
    "            job.send_keys(job_to_search)\n",
    "        except Exception as e:\n",
    "            print('Erro ao inserir nome da vaga de emprego: ',e)\n",
    "            pass\n",
    "    \n",
    "    def insere_city(self, city_or_region):\n",
    "        try:\n",
    "            city = self.chrome.find_element_by_css_selector('#cidade')\n",
    "            city.clear()\n",
    "            city.send_keys(city_or_region)\n",
    "        except Exception as e:\n",
    "            print('Erro ao inserir cidade ou região: ',e)\n",
    "            pass\n",
    "    \n",
    "    def clica_busca(self):\n",
    "        try:\n",
    "            search_bttn = self.chrome.find_element_by_css_selector('#formBuscaVagas > div.envolveBtnBuscaVagas.gtm-class > input')\n",
    "            search_bttn.click()\n",
    "        except Exception as e:\n",
    "            print('Erro ao clicar no botão de busca: ',e)\n",
    "            pass\n",
    "        \n",
    "    def one_field_extractor(self,path):\n",
    "        try:\n",
    "            field = self.chrome.find_element_by_xpath(path)\n",
    "            field = field.text\n",
    "            return field\n",
    "        except:\n",
    "            field = pd.NA\n",
    "            return field\n",
    "    \n",
    "    def extractor(self,seq_num):\n",
    "        \"\"\"\n",
    "        Finds the job description box of number seq_num, extracts it's information and returns these informations in a pandas DataFrame\n",
    "        \"\"\"\n",
    "        field_paths = {'name':f'/html/body/div[1]/article/section/ul/li[{seq_num}]/section/div/header/h2/a',\n",
    "                       'published':f'/html/body/div[1]/article/section/ul/li[{seq_num}]/section/div/header/h2/time',\n",
    "                       'salary':f'/html/body/div[1]/article/section/ul/li[{seq_num}]/section/div/header/h2/div/strong[1]',\n",
    "                       'n_jobs':f'/html/body/div[1]/article/section/ul/li[{seq_num}]/section/div/header/h2/div/strong[2]/span[1]',\n",
    "                       'city':f'/html/body/div[1]/article/section/ul/li[{seq_num}]/section/div/header/h2/div/strong[2]/span[2]/span/a',\n",
    "                       'description':f'/html/body/div[1]/article/section/ul/li[{seq_num}]/section/div/article/div[1]/div'\n",
    "                      }\n",
    "        description_box = self.chrome.find_element_by_xpath(field_paths['name'])\n",
    "        description_box.click()\n",
    "        \n",
    "        try:\n",
    "            element = WebDriverWait(self.chrome, 2).until(\n",
    "                EC.presence_of_element_located((By.XPATH, field_paths['description']))\n",
    "            )\n",
    "        except:\n",
    "            pass\n",
    "        \n",
    "        return pd.DataFrame({'job_name':[self.one_field_extractor(field_paths['name'])],\n",
    "                         'publicated_in':[self.one_field_extractor(field_paths['published'])],\n",
    "                         'salary':[self.one_field_extractor(field_paths['salary'])],\n",
    "                         'n_jobs':[self.one_field_extractor(field_paths['n_jobs'])],\n",
    "                         'city':[self.one_field_extractor(field_paths['city'])],\n",
    "                         'description':[self.one_field_extractor(field_paths['description'])]})\n",
    "    \n",
    "    def move_foward(self):\n",
    "        \"\"\"\n",
    "        Moves to the next page, if there is any, and returns True. Else, return False.\n",
    "        \"\"\"\n",
    "        try:\n",
    "            a = self.chrome.find_element_by_tag_name('a.arrow.next')\n",
    "            a.click()\n",
    "            return True\n",
    "        except:\n",
    "            return False\n",
    "    \n",
    "    def page_scanner(self):\n",
    "        \"\"\"\n",
    "        something\n",
    "        \"\"\"\n",
    "        jobs_information_df = self.extractor(1)\n",
    "    \n",
    "        boxes_per_page = 11\n",
    "        for i in range(2,boxes_per_page):\n",
    "            try:\n",
    "                jobs_information_df = pd.concat([jobs_information_df,self.extractor(i)]) \n",
    "            except Exception as e:\n",
    "                print('Erro ao escanear a página: ',e)\n",
    "                pass\n",
    "    \n",
    "        return jobs_information_df\n",
    "\n",
    "    \n",
    "if __name__ == '__main__':\n",
    "    \n",
    "    \n",
    "    #Setting scraper and search parameter\n",
    "    \n",
    "    chrome = ChromeAuto()\n",
    "    \n",
    "    url = 'https://www.catho.com.br/vagas'\n",
    "    chrome.acessa(url)\n",
    "    \n",
    "    job_to_search = input('Escreva a vaga procurada.')\n",
    "    chrome.insere_job(job_to_search)\n",
    "    \n",
    "    city_or_region = input('Escreva a cidade, estado ou região de interesse.')\n",
    "    chrome.insere_city(city_or_region)\n",
    "    \n",
    "    sleep(3)\n",
    "    chrome.clica_busca()\n",
    "    \n",
    "    #Data acquisition\n",
    "    \n",
    "    all_jobs = chrome.page_scanner()\n",
    "\n",
    "    condition = chrome.move_foward()\n",
    "\n",
    "    while condition == True:\n",
    "        try:\n",
    "            df1 = chrome.page_scanner()\n",
    "            all_jobs = pd.concat([all_jobs, df1])\n",
    "            sleep(1)\n",
    "            condition = chrome.move_foward()\n",
    "        except:\n",
    "            pass\n",
    "    \n",
    "    sleep(3)\n",
    "    chrome.sair()\n",
    "    \n",
    "    #Data manipulation\n",
    "    \n",
    "    all_jobs = all_jobs.dropna(how='all').reset_index(drop=True)\n",
    "    \n",
    "    all_jobs = all_jobs.fillna(value='no_description')\n",
    "    \n",
    "    all_jobs['description'] = all_jobs['description'].apply(lambda x: x.lower().strip())\n",
    "    \n",
    "    # Tratando 'De R$ 4.001,00 a R$ 5.000,00' para que fique '4.001,00 - 5.000,00'\n",
    "    all_jobs['salary'] = all_jobs['salary'].apply(lambda x: x.replace('De','').replace('R$','').replace(' a ','-').strip())\n",
    "    all_jobs['salary_min'] = all_jobs['salary'].apply(lambda x: x.split('-')[0].strip() if '-' in x else x)\n",
    "    all_jobs['salary_max'] = all_jobs['salary'].apply(lambda x: x.split('-')[1].strip() if '-' in x else x)\n",
    "\n",
    "    all_jobs['city'] = all_jobs['city'].apply(lambda x: x.split('(')[0] if '(' in x else x)\n",
    "    all_jobs['cidade'] = all_jobs['city'].apply(lambda x: x.split('-')[0].strip() if '-' in x else x)\n",
    "    all_jobs['estado'] = all_jobs['city'].apply(lambda x: x.split('-')[1].strip() if '-' in x else x)\n",
    "    \n",
    "    all_jobs = all_jobs[['job_name',\n",
    "                         'cidade',\n",
    "                         'estado',\n",
    "                         'salary',\n",
    "                         'publicated_in',\n",
    "                         'n_jobs',\n",
    "                         'salary_min',\n",
    "                         'salary_max', \n",
    "                         'description']]\n",
    "    \n",
    "    #Backup\n",
    "    name_export = '-'.join([job_to_search.replace(' ','_'),\n",
    "                            str(date.today()).replace('-','_')])\n",
    "    \n",
    "    all_jobs.to_csv(f'./JobProfile/{name_export}.csv', index=False)\n",
    "    \n",
    "    \n",
    "    all_jobs['salary'] = all_jobs['salary'].apply(lambda x: x.replace('De','').replace('R$','').replace(' a ','-').strip())\n",
    "    all_jobs['salary_min'] = all_jobs['salary'].apply(lambda x: x.split('-')[0].strip() if '-' in x else x)\n",
    "    all_jobs['salary_max'] = all_jobs['salary'].apply(lambda x: x.split('-')[1].strip() if '-' in x else x)\n",
    "    \n",
    "    def numberfy(value):\n",
    "        '''\n",
    "        Receives information on wages and translates to float, assigns 0.1 to 'A Combinar' and 0 to 'no_description'. \n",
    "        '''\n",
    "        try:\n",
    "            a = float(value.replace('.','')\n",
    "                      .replace(',','.')\n",
    "                      .replace('Até','')\n",
    "                      .replace('A Combinar','0.1')\n",
    "                      .replace('no_description','0')\n",
    "                      .strip()) \n",
    "            return a\n",
    "        except:\n",
    "            return pd.NA\n",
    "    \n",
    "    all_jobs['salary_min'] = all_jobs['salary_min'].apply(numberfy)\n",
    "    all_jobs['salary_max'] = all_jobs['salary_max'].apply(numberfy)\n",
    "    \n",
    "    # Maximum and minimum salaries without NA and 'A Combinar' or 'no_description'\n",
    "    def distrib_salarios(all_jobs):\n",
    "        max_to_plot = all_jobs[all_jobs['salary_max']>0.2]['salary_max'].dropna()\n",
    "        min_to_plot = all_jobs[all_jobs['salary_min']>0.2]['salary_min'].dropna()\n",
    "\n",
    "\n",
    "        plt.xlim(0,max_to_plot.max()+500)\n",
    "        plt.ylim(0,max_to_plot.value_counts().max()+5)\n",
    "\n",
    "        min_to_plot.plot(kind='hist', \n",
    "                         bins=20, \n",
    "                         alpha=0.3, \n",
    "                         label='limite inferior', \n",
    "                         figsize=(10,5))\n",
    "\n",
    "        max_to_plot.plot(kind='hist', \n",
    "                         bins=20, \n",
    "                         alpha=0.3, \n",
    "                         label='limite superior', \n",
    "                         figsize=(10,5))\n",
    "\n",
    "        plt.legend()\n",
    "        plt.title(f'Distribuição dos Salários mencionando\\n {job_to_search}', fontsize=20)\n",
    "        plt.ylabel('Frequência')\n",
    "        plt.xlabel('Salário em reais(R$)')\n",
    "\n",
    "        return plt.show();\n",
    "    \n",
    "    # Importing Portuguese stop words\n",
    "    pt_stop_words = pd.read_csv('https://gist.githubusercontent.com/alopes/5358189/raw/2107d809cca6b83ce3d8e04dbd9463283025284f/stopwords.txt', header=None)\n",
    "    pt_stop_words.columns = ['stop']\n",
    "\n",
    "    #flatening the list of lists \n",
    "    stop_words = [item for lista in pt_stop_words.values for item in lista]\n",
    "\n",
    "    # striping possible spaces at beginning or end of strings\n",
    "    stop_words = [item.strip() for item in stop_words]\n",
    "\n",
    "    def limpa_ponto(string):\n",
    "        '''\n",
    "        Replaces the string punctuation with a space using regex\n",
    "        '''\n",
    "        pattern = r\"[,.%!+;={}():/\\[\\]\\@\\?\\\"]\"\n",
    "        string = re.sub(pattern,' ',string)\n",
    "    \n",
    "        return string\n",
    "\n",
    "    # For every 'all_jobs' rows: \n",
    "    # removes punctuation from description, split into words, keep only one occurence of each and removes stop_words \n",
    "    descrp = all_jobs['description'].apply(lambda x: set(item.strip() for item in limpa_ponto(x).split())-set(stop_words))\n",
    "\n",
    "    # List of the occurrence union of all words used in all scraped descriptions:\n",
    "    tot_words = [item for lista in descrp.values for item in lista]\n",
    "\n",
    "    # List of only ONE occurrence of words used in all scraped descriptions:\n",
    "    set_words = list(set(tot_words))\n",
    "\n",
    "    # Capturing the frequency of each word occurence\n",
    "    word_freq = dict()\n",
    "    for word in set_words:\n",
    "        word_freq[word] = tot_words.count(word)\n",
    "\n",
    "    # Pandas series with the sorted frequency of words (descending order)\n",
    "    ranking = pd.Series(word_freq).sort_values(ascending=False)\n",
    "    \n",
    "    \n",
    "    def check_terms(size, ranking, set_words):\n",
    "        '''\n",
    "        Asks for a set of words (comma separated), to check their occurence frequency in the totality of job descriptions.\n",
    "    \n",
    "        ranking: pandas series with the frequency of words\n",
    "    \n",
    "        size: number of descriptions analysed. Receives all_jobs.shape[0]\n",
    "    \n",
    "        set_words: set of words mentioned used in the descriptions without stop_words\n",
    "        '''\n",
    "    \n",
    "    \n",
    "        searching_terms = input('Digite palavras separadas por vírgula para conferir a frequência de menções nas descrições.')\n",
    "    \n",
    "        searching_terms = [item.strip() for item in searching_terms.lower().split(',')]\n",
    "    \n",
    "        true_search = [item for item in searching_terms if item in set_words]\n",
    "        not_present = list(set(searching_terms)-set(true_search))\n",
    "        #searching_terms = ['sql','python','r','nosql','spark','power','bi']\n",
    "\n",
    "        print(f'''\n",
    "\n",
    "*****************************\n",
    "*Not present on description:*\n",
    "*****************************\n",
    "{not_present}\n",
    "\n",
    "*************************************\n",
    "*Frequency of searched terms (in %):*\n",
    "*************************************\n",
    "{round(ranking[true_search].sort_values(ascending=False)*100/size)}\n",
    "      \n",
    "{ranking[true_search].sort_values(ascending=True).plot(kind='barh', title='Specific Terms Frequency (%)')}\n",
    "              ''')"
   ]
  },
  {
   "cell_type": "markdown",
   "metadata": {},
   "source": [
    "# Data"
   ]
  },
  {
   "cell_type": "code",
   "execution_count": 3,
   "metadata": {
    "ExecuteTime": {
     "end_time": "2020-05-07T13:33:35.025405Z",
     "start_time": "2020-05-07T13:33:34.984429Z"
    },
    "scrolled": true
   },
   "outputs": [
    {
     "data": {
      "text/html": [
       "<div>\n",
       "<style scoped>\n",
       "    .dataframe tbody tr th:only-of-type {\n",
       "        vertical-align: middle;\n",
       "    }\n",
       "\n",
       "    .dataframe tbody tr th {\n",
       "        vertical-align: top;\n",
       "    }\n",
       "\n",
       "    .dataframe thead th {\n",
       "        text-align: right;\n",
       "    }\n",
       "</style>\n",
       "<table border=\"1\" class=\"dataframe\">\n",
       "  <thead>\n",
       "    <tr style=\"text-align: right;\">\n",
       "      <th></th>\n",
       "      <th>job_name</th>\n",
       "      <th>cidade</th>\n",
       "      <th>estado</th>\n",
       "      <th>salary</th>\n",
       "      <th>publicated_in</th>\n",
       "      <th>n_jobs</th>\n",
       "      <th>salary_min</th>\n",
       "      <th>salary_max</th>\n",
       "      <th>description</th>\n",
       "    </tr>\n",
       "  </thead>\n",
       "  <tbody>\n",
       "    <tr>\n",
       "      <th>0</th>\n",
       "      <td>Cientista de Dados</td>\n",
       "      <td>no_description</td>\n",
       "      <td>no_description</td>\n",
       "      <td>7.000,00</td>\n",
       "      <td>sexta, 24/04</td>\n",
       "      <td>Barueri-SP(1)</td>\n",
       "      <td>7000.0</td>\n",
       "      <td>7000.0</td>\n",
       "      <td>será responsável pela pesquisa, desenvolviment...</td>\n",
       "    </tr>\n",
       "    <tr>\n",
       "      <th>1</th>\n",
       "      <td>Cientista de Dados</td>\n",
       "      <td>no_description</td>\n",
       "      <td>no_description</td>\n",
       "      <td>A Combinar</td>\n",
       "      <td>segunda, 27/04</td>\n",
       "      <td>São Paulo-SP(1)</td>\n",
       "      <td>0.1</td>\n",
       "      <td>0.1</td>\n",
       "      <td>iniciar um time de \"insight\" e inteligência ar...</td>\n",
       "    </tr>\n",
       "    <tr>\n",
       "      <th>2</th>\n",
       "      <td>Cientista de Dados</td>\n",
       "      <td>no_description</td>\n",
       "      <td>no_description</td>\n",
       "      <td>A Combinar</td>\n",
       "      <td>quinta, 23/04</td>\n",
       "      <td>São Paulo-SP(1)</td>\n",
       "      <td>0.1</td>\n",
       "      <td>0.1</td>\n",
       "      <td>apropriar-se dos projetos de analytics do come...</td>\n",
       "    </tr>\n",
       "    <tr>\n",
       "      <th>3</th>\n",
       "      <td>Cientista de Dados</td>\n",
       "      <td>no_description</td>\n",
       "      <td>no_description</td>\n",
       "      <td>A Combinar</td>\n",
       "      <td>quarta, 22/04</td>\n",
       "      <td>São Paulo-SP(1)</td>\n",
       "      <td>0.1</td>\n",
       "      <td>0.1</td>\n",
       "      <td>analisar dados, construir modelos de predição ...</td>\n",
       "    </tr>\n",
       "    <tr>\n",
       "      <th>4</th>\n",
       "      <td>Cientista de Dados</td>\n",
       "      <td>no_description</td>\n",
       "      <td>no_description</td>\n",
       "      <td>A Combinar</td>\n",
       "      <td>quinta, 16/04</td>\n",
       "      <td>São Paulo-SP(1)</td>\n",
       "      <td>0.1</td>\n",
       "      <td>0.1</td>\n",
       "      <td>linguagens python ou r - estatística básica: c...</td>\n",
       "    </tr>\n",
       "  </tbody>\n",
       "</table>\n",
       "</div>"
      ],
      "text/plain": [
       "             job_name          cidade          estado      salary  \\\n",
       "0  Cientista de Dados  no_description  no_description    7.000,00   \n",
       "1  Cientista de Dados  no_description  no_description  A Combinar   \n",
       "2  Cientista de Dados  no_description  no_description  A Combinar   \n",
       "3  Cientista de Dados  no_description  no_description  A Combinar   \n",
       "4  Cientista de Dados  no_description  no_description  A Combinar   \n",
       "\n",
       "    publicated_in           n_jobs  salary_min  salary_max  \\\n",
       "0    sexta, 24/04    Barueri-SP(1)      7000.0      7000.0   \n",
       "1  segunda, 27/04  São Paulo-SP(1)         0.1         0.1   \n",
       "2   quinta, 23/04  São Paulo-SP(1)         0.1         0.1   \n",
       "3   quarta, 22/04  São Paulo-SP(1)         0.1         0.1   \n",
       "4   quinta, 16/04  São Paulo-SP(1)         0.1         0.1   \n",
       "\n",
       "                                         description  \n",
       "0  será responsável pela pesquisa, desenvolviment...  \n",
       "1  iniciar um time de \"insight\" e inteligência ar...  \n",
       "2  apropriar-se dos projetos de analytics do come...  \n",
       "3  analisar dados, construir modelos de predição ...  \n",
       "4  linguagens python ou r - estatística básica: c...  "
      ]
     },
     "execution_count": 3,
     "metadata": {},
     "output_type": "execute_result"
    }
   ],
   "source": [
    "all_jobs.head()"
   ]
  },
  {
   "cell_type": "code",
   "execution_count": 4,
   "metadata": {
    "ExecuteTime": {
     "end_time": "2020-05-07T13:34:19.061480Z",
     "start_time": "2020-05-07T13:34:19.053485Z"
    }
   },
   "outputs": [
    {
     "data": {
      "text/plain": [
       "(91, 9)"
      ]
     },
     "execution_count": 4,
     "metadata": {},
     "output_type": "execute_result"
    }
   ],
   "source": [
    "all_jobs.shape"
   ]
  },
  {
   "cell_type": "code",
   "execution_count": 5,
   "metadata": {
    "ExecuteTime": {
     "end_time": "2020-05-07T13:34:20.174757Z",
     "start_time": "2020-05-07T13:34:20.155766Z"
    }
   },
   "outputs": [
    {
     "name": "stdout",
     "output_type": "stream",
     "text": [
      "<class 'pandas.core.frame.DataFrame'>\n",
      "RangeIndex: 91 entries, 0 to 90\n",
      "Data columns (total 9 columns):\n",
      " #   Column         Non-Null Count  Dtype  \n",
      "---  ------         --------------  -----  \n",
      " 0   job_name       91 non-null     object \n",
      " 1   cidade         91 non-null     object \n",
      " 2   estado         91 non-null     object \n",
      " 3   salary         91 non-null     object \n",
      " 4   publicated_in  91 non-null     object \n",
      " 5   n_jobs         91 non-null     object \n",
      " 6   salary_min     91 non-null     float64\n",
      " 7   salary_max     91 non-null     float64\n",
      " 8   description    91 non-null     object \n",
      "dtypes: float64(2), object(7)\n",
      "memory usage: 6.5+ KB\n"
     ]
    }
   ],
   "source": [
    "all_jobs.info()"
   ]
  },
  {
   "cell_type": "markdown",
   "metadata": {},
   "source": [
    "# Título das Vagas"
   ]
  },
  {
   "cell_type": "code",
   "execution_count": 6,
   "metadata": {
    "ExecuteTime": {
     "end_time": "2020-05-07T13:34:23.293256Z",
     "start_time": "2020-05-07T13:34:23.277264Z"
    },
    "scrolled": true
   },
   "outputs": [
    {
     "data": {
      "text/plain": [
       "Analista de Business Intelligence            51\n",
       "Cientista de Dados                           18\n",
       "Estatístico                                   7\n",
       "Coordenador de Business Intelligence          2\n",
       "Cientista de Dados - Produtos Financeiros     1\n",
       "Name: job_name, dtype: int64"
      ]
     },
     "execution_count": 6,
     "metadata": {},
     "output_type": "execute_result"
    }
   ],
   "source": [
    "all_jobs['job_name'].value_counts().head()"
   ]
  },
  {
   "cell_type": "markdown",
   "metadata": {},
   "source": [
    "# Cidades Mencionadas"
   ]
  },
  {
   "cell_type": "code",
   "execution_count": 7,
   "metadata": {
    "ExecuteTime": {
     "end_time": "2020-05-07T13:34:31.005495Z",
     "start_time": "2020-05-07T13:34:30.993499Z"
    },
    "scrolled": true
   },
   "outputs": [
    {
     "data": {
      "text/plain": [
       "São Paulo         38\n",
       "no_description    10\n",
       "Barueri            7\n",
       "Rio de Janeiro     5\n",
       "Brasilia           4\n",
       "Name: cidade, dtype: int64"
      ]
     },
     "execution_count": 7,
     "metadata": {},
     "output_type": "execute_result"
    }
   ],
   "source": [
    "all_jobs['cidade'].value_counts().head()"
   ]
  },
  {
   "cell_type": "markdown",
   "metadata": {},
   "source": [
    "# Distribuição dos Salários Mencionados"
   ]
  },
  {
   "cell_type": "code",
   "execution_count": 8,
   "metadata": {
    "ExecuteTime": {
     "end_time": "2020-05-07T13:35:26.760607Z",
     "start_time": "2020-05-07T13:35:25.755668Z"
    },
    "code_folding": [],
    "scrolled": true
   },
   "outputs": [
    {
     "data": {
      "image/png": "[encoded data removed]",
      "text/plain": [
       "<Figure size 720x360 with 1 Axes>"
      ]
     },
     "metadata": {
      "needs_background": "light"
     },
     "output_type": "display_data"
    }
   ],
   "source": [
    "distrib_salarios(all_jobs)"
   ]
  },
  {
   "cell_type": "markdown",
   "metadata": {},
   "source": [
    "# Terms and Skills on Description "
   ]
  },
  {
   "cell_type": "markdown",
   "metadata": {},
   "source": [
    "## General ranking"
   ]
  },
  {
   "cell_type": "code",
   "execution_count": 9,
   "metadata": {
    "ExecuteTime": {
     "end_time": "2020-05-07T13:35:42.336495Z",
     "start_time": "2020-05-07T13:35:39.299938Z"
    },
    "scrolled": false
   },
   "outputs": [
    {
     "data": {
      "image/png": "[encoded data removed]",
      "text/plain": [
       "<Figure size 432x432 with 1 Axes>"
      ]
     },
     "metadata": {
      "needs_background": "light"
     },
     "output_type": "display_data"
    }
   ],
   "source": [
    "plt.figure(figsize=(6,6))\n",
    "ranking[0:30].sort_values(ascending=True).plot(kind='barh');"
   ]
  },
  {
   "cell_type": "markdown",
   "metadata": {},
   "source": [
    "## Checking specific terms frequency"
   ]
  },
  {
   "cell_type": "markdown",
   "metadata": {},
   "source": [
    "You may check specific terms frequency on the scraped descriptions by running the function below and following the instructions:"
   ]
  },
  {
   "cell_type": "code",
   "execution_count": 10,
   "metadata": {
    "ExecuteTime": {
     "end_time": "2020-05-07T13:38:11.905434Z",
     "start_time": "2020-05-07T13:38:08.165036Z"
    }
   },
   "outputs": [
    {
     "name": "stdout",
     "output_type": "stream",
     "text": [
      "Digite palavras separadas por vírgula para conferir a frequência de menções nas descrições.sql,python,spark,etl,skala,airflow,ml,machine,excel,bi,batman,pós,pós-graduação,graduação\n",
      "\n",
      "\n",
      "*****************************\n",
      "*Not present on description:*\n",
      "*****************************\n",
      "['skala', 'airflow', 'batman', 'ml']\n",
      "\n",
      "*************************************\n",
      "*Frequency of searched terms (in %):*\n",
      "*************************************\n",
      "bi               44.0\n",
      "sql              41.0\n",
      "python           24.0\n",
      "excel            22.0\n",
      "etl              19.0\n",
      "machine          16.0\n",
      "graduação         8.0\n",
      "spark             7.0\n",
      "pós-graduação     4.0\n",
      "pós               2.0\n",
      "dtype: float64\n",
      "      \n",
      "AxesSubplot(0.125,0.125;0.775x0.755)\n",
      "              \n"
     ]
    },
    {
     "data": {
      "image/png": "[encoded data removed]",
      "text/plain": [
       "<Figure size 432x288 with 1 Axes>"
      ]
     },
     "metadata": {
      "needs_background": "light"
     },
     "output_type": "display_data"
    }
   ],
   "source": [
    "check_terms(size=all_jobs.shape[0], ranking = ranking, set_words = set_words)"
   ]
  },
  {
   "cell_type": "code",
   "execution_count": 24,
   "metadata": {
    "ExecuteTime": {
     "end_time": "2020-05-07T14:34:06.778789Z",
     "start_time": "2020-05-07T14:34:06.768797Z"
    }
   },
   "outputs": [
    {
     "data": {
      "text/plain": [
       "13    a gupy é uma empresa de tecnologia que une um ...\n",
       "Name: description, dtype: object"
      ]
     },
     "execution_count": 24,
     "metadata": {},
     "output_type": "execute_result"
    }
   ],
   "source": [
    "word = 'gupy'\n",
    "all_jobs[all_jobs['description'].str.contains(word)]['description']"
   ]
  },
  {
   "cell_type": "code",
   "execution_count": 25,
   "metadata": {
    "ExecuteTime": {
     "end_time": "2020-05-07T14:34:15.925494Z",
     "start_time": "2020-05-07T14:34:15.918498Z"
    }
   },
   "outputs": [
    {
     "data": {
      "text/plain": [
       "'a gupy é uma empresa de tecnologia que une um grupo de pessoas desenvolvedoras, engenheiras e cientistas apaixonados em gerar inovação. somos movidos por grandes desafios e precisamos de pessoas que amem tecnologia, aprendizado constante, e que tenham muita gana para nos ajudarem a transformar a gupy na melhor e maior empresa de recrutamento tech do brasil. atualmente temos um índice de desemprego muito alto no brasil e uma guerra por talentos a todo vapor. por isso, nosso propósito é oferecer contratações mais ágeis, justas e encantadoras para os nossos clientes e candidatos. estamos crescendo muito rápido e criando a cada dia um produto ainda mais poderoso. o segredo disso? as pessoas incríveis que fazem parte conosco dessa construção contínua. dado o cenário da covid-19, algumas de nossas estratégias internas foram revistas e assim, algumas de nossas vagas tiveram seus prazos reajustados ao longo do ano.mas apenas esperar não basta para nós! queremos te preparar para nossas futuras oportunidades. por isso, criamos este banco de talentos com um propósito diferente dos demais bancos: nos conhecer melhor! então, quer saber um pouco mais sobre nossa história, valores, rituais do dia a dia, modelo de trabalho dos nossos gupiers, as ações e projetos incríveis que estamos fazendo e além disso tudo, ainda receber dicas de como se preparar para processos seletivos? se inscreva, e embarque nessa jornada com a gente! como requisitos básicos, você deve ter: conhecimentos em estatística. experiência como cientista de dados ou engenheiro de machine learning. experiência com sql (postgres). experiência com exploração de dados. sólido conhecimento em python. conhecimento das bibliotecas: scikit-learn, pandas e numpy. conhecimentos de engenharia de software: teste unitários, tdd, oop, preocupação com performance e qualidade de código. interesse e competência para ser dona do processo completo, dos experimentos à implantação e monitoramento em produção. seria um diferencial você ter alguma dessas: experiência com técnicas de processamento de linguagem natural (nlp e nlu). conhecimento de algumas das bibliotecas mais usadas no universo de machine learning e deep learning como tensorflow, keras, xgboost e matplotlib. conhecimento de redes neurais e algoritmos de deep learning. experiência com desenvolvimento de api.'"
      ]
     },
     "execution_count": 25,
     "metadata": {},
     "output_type": "execute_result"
    }
   ],
   "source": [
    "all_jobs.loc[13,['description']]['description']"
   ]
  }
 ],
 "metadata": {
  "kernelspec": {
   "display_name": "Python 3",
   "language": "python",
   "name": "python3"
  },
  "toc": {
   "base_numbering": 1,
   "nav_menu": {},
   "number_sections": true,
   "sideBar": true,
   "skip_h1_title": false,
   "title_cell": "Table of Contents",
   "title_sidebar": "Contents",
   "toc_cell": false,
   "toc_position": {},
   "toc_section_display": true,
   "toc_window_display": false
  },
  "varInspector": {
   "cols": {
    "lenName": 16,
    "lenType": 16,
    "lenVar": 40
   },
   "kernels_config": {
    "python": {
     "delete_cmd_postfix": "",
     "delete_cmd_prefix": "del ",
     "library": "var_list.py",
     "varRefreshCmd": "print(var_dic_list())"
    },
    "r": {
     "delete_cmd_postfix": ") ",
     "delete_cmd_prefix": "rm(",
     "library": "var_list.r",
     "varRefreshCmd": "cat(var_dic_list()) "
    }
   },
   "types_to_exclude": [
    "module",
    "function",
    "builtin_function_or_method",
    "instance",
    "_Feature"
   ],
   "window_display": false
  }
 },
 "nbformat": 4,
 "nbformat_minor": 2
}

{
 "cells": [
  {
   "cell_type": "code",
   "execution_count": 13,
   "metadata": {
    "ExecuteTime": {
     "end_time": "2020-05-04T03:02:53.039374Z",
     "start_time": "2020-05-04T03:01:54.803058Z"
    },
    "scrolled": false
   },
   "outputs": [
    {
     "name": "stdout",
     "output_type": "stream",
     "text": [
      "Escreva a vaga procurada.Cientista de Dados\n",
      "Escreva a cidade, estado ou região de interesse.São Paulo, SP\n"
     ]
    }
   ],
   "source": [
    "# System\n",
    "import pandas as pd\n",
    "import numpy as np\n",
    "from selenium import webdriver\n",
    "from time import sleep\n",
    "\n",
    "class ChromeAuto:\n",
    "    def __init__(self):\n",
    "        self.driver_path = '../chromedriver_win32/chromedriver.exe'\n",
    "        self.options = webdriver.ChromeOptions()\n",
    "        self.options.add_argument('user-data-dir=JobProfile')\n",
    "        self.chrome = webdriver.Chrome(\n",
    "                                        executable_path=self.driver_path,\n",
    "                                        options=self.options\n",
    "                                      )\n",
    "        \n",
    "    def acessa(self, site):\n",
    "        self.chrome.get(site)\n",
    "    \n",
    "    def sair(self):\n",
    "        self.chrome.quit()\n",
    "    \n",
    "    def insere_job(self, job_to_search):\n",
    "        try:\n",
    "            job = self.chrome.find_element_by_css_selector('#cargoDesejado')\n",
    "            job.clear()\n",
    "            job.send_keys(job_to_search)\n",
    "        except Exception as e:\n",
    "            print('Erro ao inserir nome da vaga de emprego: ',e)\n",
    "            pass\n",
    "    \n",
    "    def insere_city(self, city_or_region):\n",
    "        try:\n",
    "            city = self.chrome.find_element_by_css_selector('#cidade')\n",
    "            city.clear()\n",
    "            city.send_keys(city_or_region)\n",
    "        except Exception as e:\n",
    "            print('Erro ao inserir cidade ou região: ',e)\n",
    "            pass\n",
    "    \n",
    "    def clica_busca(self):\n",
    "        try:\n",
    "            search_bttn = self.chrome.find_element_by_css_selector('#formBuscaVagas > div.envolveBtnBuscaVagas.gtm-class > input')\n",
    "            search_bttn.click()\n",
    "        except Exception as e:\n",
    "            print('Erro ao clicar no botão de busca: ',e)\n",
    "            pass\n",
    "        \n",
    "    def one_field_extractor(self,path):\n",
    "        try:\n",
    "            field = self.chrome.find_element_by_xpath(path)\n",
    "            field = field.text\n",
    "            return field\n",
    "        except:\n",
    "            field = pd.NA\n",
    "            return field\n",
    "    \n",
    "    def extractor(self,seq_num):\n",
    "        \"\"\"\n",
    "        Finds the job description box of number seq_num, extracts it's information and returns these informations in a pandas DataFrame\n",
    "        \"\"\"\n",
    "        field_paths = {'name':f'/html/body/div[1]/article/section/ul/li[{seq_num}]/section/div/header/h2/a',\n",
    "                       'published':f'/html/body/div[1]/article/section/ul/li[{seq_num}]/section/div/header/h2/time',\n",
    "                       'salary':f'/html/body/div[1]/article/section/ul/li[{seq_num}]/section/div/header/h2/div/strong[1]',\n",
    "                       'n_jobs':f'/html/body/div[1]/article/section/ul/li[{seq_num}]/section/div/header/h2/div/strong[2]/span[1]',\n",
    "                       'city':f'/html/body/div[1]/article/section/ul/li[{seq_num}]/section/div/header/h2/div/strong[2]/span[2]',\n",
    "                       'description':f'/html/body/div[1]/article/section/ul/li[{seq_num}]/section/div/article/div[1]/div'\n",
    "                      }\n",
    "    \n",
    "        return pd.DataFrame({'job_name':[self.one_field_extractor(field_paths['name'])],\n",
    "                         'publicated_in':[self.one_field_extractor(field_paths['published'])],\n",
    "                         'salary':[self.one_field_extractor(field_paths['salary'])],\n",
    "                         'n_jobs':[self.one_field_extractor(field_paths['n_jobs'])],\n",
    "                         'city':[self.one_field_extractor(field_paths['city'])],\n",
    "                         'description':[self.one_field_extractor(field_paths['description'])]})\n",
    "    \n",
    "    def move_foward(self):\n",
    "        \"\"\"\n",
    "        Moves to the next page, if there is any, and returns True. Else, return False.\n",
    "        \"\"\"\n",
    "        try:\n",
    "            a = self.chrome.find_element_by_tag_name('a.arrow.next')\n",
    "            a.click()\n",
    "            return True\n",
    "        except:\n",
    "            return False\n",
    "    \n",
    "    def page_scanner(self):\n",
    "        \"\"\"\n",
    "        something\n",
    "        \"\"\"\n",
    "        jobs_information_df = self.extractor(1)\n",
    "    \n",
    "        boxes_per_page = 11\n",
    "        for i in range(2,boxes_per_page):\n",
    "            try:\n",
    "                jobs_information_df = pd.concat([jobs_information_df,self.extractor(i)]) \n",
    "            except Exception as e:\n",
    "                print('Erro ao escanear a página: ',e)\n",
    "                pass\n",
    "    \n",
    "        return jobs_information_df\n",
    "\n",
    "    \n",
    "if __name__ == '__main__':\n",
    "    \n",
    "    chrome = ChromeAuto()\n",
    "    \n",
    "    url = 'https://www.catho.com.br/vagas'\n",
    "    chrome.acessa(url)\n",
    "    \n",
    "    job_to_search = input('Escreva a vaga procurada.')\n",
    "    chrome.insere_job(job_to_search)\n",
    "    \n",
    "    city_or_region = input('Escreva a cidade, estado ou região de interesse.')\n",
    "    chrome.insere_city(city_or_region)\n",
    "    \n",
    "    sleep(3)\n",
    "    chrome.clica_busca()\n",
    "    \n",
    "    all_jobs = chrome.page_scanner()\n",
    "\n",
    "    condition = chrome.move_foward()\n",
    "\n",
    "    while condition == True:\n",
    "        try:\n",
    "            df1 = chrome.page_scanner()\n",
    "            all_jobs = pd.concat([all_jobs, df1])\n",
    "            sleep(1)\n",
    "            condition = chrome.move_foward()\n",
    "        except:\n",
    "            pass\n",
    "    \n",
    "    sleep(3)\n",
    "    #chrome.sair()\n",
    "    \n",
    "    #\n",
    "    #self.chrome.find_element_by_css_selector"
   ]
  },
  {
   "cell_type": "code",
   "execution_count": 14,
   "metadata": {
    "ExecuteTime": {
     "end_time": "2020-05-04T03:03:11.757758Z",
     "start_time": "2020-05-04T03:03:11.740767Z"
    },
    "scrolled": false
   },
   "outputs": [
    {
     "data": {
      "text/html": [
       "<div>\n",
       "<style scoped>\n",
       "    .dataframe tbody tr th:only-of-type {\n",
       "        vertical-align: middle;\n",
       "    }\n",
       "\n",
       "    .dataframe tbody tr th {\n",
       "        vertical-align: top;\n",
       "    }\n",
       "\n",
       "    .dataframe thead th {\n",
       "        text-align: right;\n",
       "    }\n",
       "</style>\n",
       "<table border=\"1\" class=\"dataframe\">\n",
       "  <thead>\n",
       "    <tr style=\"text-align: right;\">\n",
       "      <th></th>\n",
       "      <th>job_name</th>\n",
       "      <th>publicated_in</th>\n",
       "      <th>salary</th>\n",
       "      <th>n_jobs</th>\n",
       "      <th>city</th>\n",
       "      <th>description</th>\n",
       "    </tr>\n",
       "  </thead>\n",
       "  <tbody>\n",
       "    <tr>\n",
       "      <th>0</th>\n",
       "      <td>Cientista de Dados</td>\n",
       "      <td>sexta, 24/04</td>\n",
       "      <td>R$ 7.000,00</td>\n",
       "      <td>Barueri-SP(1)</td>\n",
       "      <td>&lt;NA&gt;</td>\n",
       "      <td>Será responsável pela pesquisa, desenvolviment...</td>\n",
       "    </tr>\n",
       "    <tr>\n",
       "      <th>1</th>\n",
       "      <td>Cientista de Dados</td>\n",
       "      <td>quinta, 23/04</td>\n",
       "      <td>A Combinar</td>\n",
       "      <td>São Paulo-SP(1)</td>\n",
       "      <td>&lt;NA&gt;</td>\n",
       "      <td>Apropriar-se dos projetos de analytics do come...</td>\n",
       "    </tr>\n",
       "    <tr>\n",
       "      <th>2</th>\n",
       "      <td>Cientista de Dados</td>\n",
       "      <td>quarta, 22/04</td>\n",
       "      <td>A Combinar</td>\n",
       "      <td>São Paulo-SP(1)</td>\n",
       "      <td>&lt;NA&gt;</td>\n",
       "      <td>Analisar dados, construir modelos de predição ...</td>\n",
       "    </tr>\n",
       "    <tr>\n",
       "      <th>3</th>\n",
       "      <td>Cientista de Dados</td>\n",
       "      <td>quinta, 16/04</td>\n",
       "      <td>A Combinar</td>\n",
       "      <td>São Paulo-SP(1)</td>\n",
       "      <td>&lt;NA&gt;</td>\n",
       "      <td>Linguagens Python ou R - Estatística básica: c...</td>\n",
       "    </tr>\n",
       "    <tr>\n",
       "      <th>4</th>\n",
       "      <td>Cientista de Dados</td>\n",
       "      <td>segunda, 13/04</td>\n",
       "      <td>A Combinar</td>\n",
       "      <td>São Paulo-SP(1)</td>\n",
       "      <td>&lt;NA&gt;</td>\n",
       "      <td>Description: Our Client focuses on helping cli...</td>\n",
       "    </tr>\n",
       "    <tr>\n",
       "      <th>...</th>\n",
       "      <td>...</td>\n",
       "      <td>...</td>\n",
       "      <td>...</td>\n",
       "      <td>...</td>\n",
       "      <td>...</td>\n",
       "      <td>...</td>\n",
       "    </tr>\n",
       "    <tr>\n",
       "      <th>95</th>\n",
       "      <td>NaN</td>\n",
       "      <td>NaN</td>\n",
       "      <td>NaN</td>\n",
       "      <td>NaN</td>\n",
       "      <td>NaN</td>\n",
       "      <td>NaN</td>\n",
       "    </tr>\n",
       "    <tr>\n",
       "      <th>96</th>\n",
       "      <td>NaN</td>\n",
       "      <td>NaN</td>\n",
       "      <td>NaN</td>\n",
       "      <td>NaN</td>\n",
       "      <td>NaN</td>\n",
       "      <td>NaN</td>\n",
       "    </tr>\n",
       "    <tr>\n",
       "      <th>97</th>\n",
       "      <td>NaN</td>\n",
       "      <td>NaN</td>\n",
       "      <td>NaN</td>\n",
       "      <td>NaN</td>\n",
       "      <td>NaN</td>\n",
       "      <td>NaN</td>\n",
       "    </tr>\n",
       "    <tr>\n",
       "      <th>98</th>\n",
       "      <td>NaN</td>\n",
       "      <td>NaN</td>\n",
       "      <td>NaN</td>\n",
       "      <td>NaN</td>\n",
       "      <td>NaN</td>\n",
       "      <td>NaN</td>\n",
       "    </tr>\n",
       "    <tr>\n",
       "      <th>99</th>\n",
       "      <td>NaN</td>\n",
       "      <td>NaN</td>\n",
       "      <td>NaN</td>\n",
       "      <td>NaN</td>\n",
       "      <td>NaN</td>\n",
       "      <td>NaN</td>\n",
       "    </tr>\n",
       "  </tbody>\n",
       "</table>\n",
       "<p>100 rows × 6 columns</p>\n",
       "</div>"
      ],
      "text/plain": [
       "              job_name   publicated_in       salary           n_jobs  city  \\\n",
       "0   Cientista de Dados    sexta, 24/04  R$ 7.000,00    Barueri-SP(1)  <NA>   \n",
       "1   Cientista de Dados   quinta, 23/04   A Combinar  São Paulo-SP(1)  <NA>   \n",
       "2   Cientista de Dados   quarta, 22/04   A Combinar  São Paulo-SP(1)  <NA>   \n",
       "3   Cientista de Dados   quinta, 16/04   A Combinar  São Paulo-SP(1)  <NA>   \n",
       "4   Cientista de Dados  segunda, 13/04   A Combinar  São Paulo-SP(1)  <NA>   \n",
       "..                 ...             ...          ...              ...   ...   \n",
       "95                 NaN             NaN          NaN              NaN   NaN   \n",
       "96                 NaN             NaN          NaN              NaN   NaN   \n",
       "97                 NaN             NaN          NaN              NaN   NaN   \n",
       "98                 NaN             NaN          NaN              NaN   NaN   \n",
       "99                 NaN             NaN          NaN              NaN   NaN   \n",
       "\n",
       "                                          description  \n",
       "0   Será responsável pela pesquisa, desenvolviment...  \n",
       "1   Apropriar-se dos projetos de analytics do come...  \n",
       "2   Analisar dados, construir modelos de predição ...  \n",
       "3   Linguagens Python ou R - Estatística básica: c...  \n",
       "4   Description: Our Client focuses on helping cli...  \n",
       "..                                                ...  \n",
       "95                                                NaN  \n",
       "96                                                NaN  \n",
       "97                                                NaN  \n",
       "98                                                NaN  \n",
       "99                                                NaN  \n",
       "\n",
       "[100 rows x 6 columns]"
      ]
     },
     "execution_count": 14,
     "metadata": {},
     "output_type": "execute_result"
    }
   ],
   "source": [
    "all_jobs.reset_index(drop=True)"
   ]
  },
  {
   "cell_type": "code",
   "execution_count": 28,
   "metadata": {
    "ExecuteTime": {
     "end_time": "2020-05-04T03:10:40.659942Z",
     "start_time": "2020-05-04T03:10:40.651958Z"
    },
    "scrolled": true
   },
   "outputs": [],
   "source": [
    "all_jobs = all_jobs.dropna(how='all').reset_index(drop=True)"
   ]
  },
  {
   "cell_type": "code",
   "execution_count": 29,
   "metadata": {
    "ExecuteTime": {
     "end_time": "2020-05-04T03:10:44.807830Z",
     "start_time": "2020-05-04T03:10:44.799838Z"
    },
    "scrolled": true
   },
   "outputs": [
    {
     "data": {
      "text/plain": [
       "Analista de Business Intelligence                                                                      51\n",
       "Cientista de Dados                                                                                     16\n",
       "Estatístico                                                                                             8\n",
       "Coordenador de Business Intelligence                                                                    3\n",
       "Cientista de Dados ( Junior , Pleno e Sênior )                                                          1\n",
       "Cientista de dados                                                                                      1\n",
       "Cientista de Dados / Spark / Python Sênior                                                              1\n",
       "Cientista de Dados / Engenheiro de Machine Learning                                                     1\n",
       "Analista Big Data / Cientista de Dados                                                                  1\n",
       "Cientista de Dados Sênior                                                                               1\n",
       "Engenheiro/Cientista de Dados                                                                           1\n",
       "Cientista de Dados ( Estatístico )                                                                      1\n",
       "Analista Business Intelligence                                                                          1\n",
       "Consultor de Cientista de Dados                                                                         1\n",
       "Estatístico III                                                                                         1\n",
       "Coordenador de Marketing Sênior - Ciência de Dados - Promo Analytics e Inteligência de Mercado (IM)     1\n",
       "Cientista de Dados Júnior                                                                               1\n",
       "Name: job_name, dtype: int64"
      ]
     },
     "execution_count": 29,
     "metadata": {},
     "output_type": "execute_result"
    }
   ],
   "source": [
    "all_jobs['job_name'].value_counts()"
   ]
  },
  {
   "cell_type": "code",
   "execution_count": 30,
   "metadata": {
    "ExecuteTime": {
     "end_time": "2020-05-04T03:10:46.450758Z",
     "start_time": "2020-05-04T03:10:46.442762Z"
    },
    "scrolled": true
   },
   "outputs": [
    {
     "data": {
      "text/plain": [
       "São Paulo-SP(1)                                 36\n",
       "Barueri-SP(1)                                    9\n",
       "Rio de Janeiro-RJ(1)                             4\n",
       "Belo Horizonte-MG(1)                             4\n",
       "Ribeirão Preto-SP(1)                             3\n",
       "Brasilia-DF(1)                                   2\n",
       "Brasilia-DF(2)                                   1\n",
       "São Paulo-SP(3)                                  1\n",
       "Brasilia-DF(3)                                   1\n",
       "Vargem Grande Paulista-SP(1)                     1\n",
       "Jandira-SP(1)                                    1\n",
       "Salvador-BA(2)                                   1\n",
       "Londrina-PR(1)                                   1\n",
       "Curitiba-PR(1)                                   1\n",
       "Contagem-MG(1)                                   1\n",
       "Carmo-RJ(1)                                      1\n",
       "Vinhedo-SP(1)                                    1\n",
       "São Jose-SC(1)                                   1\n",
       "Campinas-SP(1)                                   1\n",
       "São Paulo-SP(1) , Rio Branco-AC(1) + cidades     1\n",
       "Arujá-SP(1) , Guarulhos-SP(1) + cidades          1\n",
       "São Paulo-SP(2)                                  1\n",
       "Vitoria-ES(1) , Rio de Janeiro-RJ(1)             1\n",
       "Chapeco-SC(1)                                    1\n",
       "Novo Hamburgo-RS(1)                              1\n",
       "Itapetininga-SP(1)                               1\n",
       "Blumenau-SC(1)                                   1\n",
       "Itapevi-SP(1)                                    1\n",
       "Name: city, dtype: int64"
      ]
     },
     "execution_count": 30,
     "metadata": {},
     "output_type": "execute_result"
    }
   ],
   "source": [
    "all_jobs['city'].value_counts()"
   ]
  },
  {
   "cell_type": "code",
   "execution_count": 31,
   "metadata": {
    "ExecuteTime": {
     "end_time": "2020-05-04T03:10:48.312784Z",
     "start_time": "2020-05-04T03:10:48.304788Z"
    },
    "scrolled": true
   },
   "outputs": [
    {
     "data": {
      "text/plain": [
       "A Combinar                        65\n",
       "De R$ 2.001,00 a R$ 3.000,00       5\n",
       "R$ 7.000,00                        4\n",
       "De R$ 8.001,00 a R$ 9.000,00       3\n",
       "De R$ 5.001,00 a R$ 6.000,00       3\n",
       "R$ 3.000,00                        2\n",
       "De R$ 9.001,00 a R$ 10.000,00      2\n",
       "De R$ 3.001,00 a R$ 4.000,00       2\n",
       "R$ 4.000,01                        1\n",
       "R$ 1.800,00                        1\n",
       "R$ 3.500,00                        1\n",
       "R$ 4.110,00                        1\n",
       "De R$ 10.001,00 a R$ 15.000,00     1\n",
       "De R$ 4.001,00 a R$ 5.000,00       1\n",
       "                                   1\n",
       "Name: salary, dtype: int64"
      ]
     },
     "execution_count": 31,
     "metadata": {},
     "output_type": "execute_result"
    }
   ],
   "source": [
    "all_jobs['salary'].value_counts()"
   ]
  },
  {
   "cell_type": "code",
   "execution_count": 34,
   "metadata": {
    "ExecuteTime": {
     "end_time": "2020-05-04T03:12:08.862107Z",
     "start_time": "2020-05-04T03:12:08.857109Z"
    }
   },
   "outputs": [],
   "source": [
    "all_jobs['description'] = all_jobs['description'].fillna(value='no_description')"
   ]
  },
  {
   "cell_type": "code",
   "execution_count": 35,
   "metadata": {
    "ExecuteTime": {
     "end_time": "2020-05-04T03:12:11.836141Z",
     "start_time": "2020-05-04T03:12:11.830145Z"
    }
   },
   "outputs": [],
   "source": [
    "all_jobs['python'] = all_jobs['description'].apply(lambda x: 1 if 'python' in x.lower() else 0)"
   ]
  },
  {
   "cell_type": "code",
   "execution_count": 37,
   "metadata": {
    "ExecuteTime": {
     "end_time": "2020-05-04T03:12:26.195768Z",
     "start_time": "2020-05-04T03:12:26.177779Z"
    },
    "scrolled": true
   },
   "outputs": [
    {
     "data": {
      "text/html": [
       "<div>\n",
       "<style scoped>\n",
       "    .dataframe tbody tr th:only-of-type {\n",
       "        vertical-align: middle;\n",
       "    }\n",
       "\n",
       "    .dataframe tbody tr th {\n",
       "        vertical-align: top;\n",
       "    }\n",
       "\n",
       "    .dataframe thead th {\n",
       "        text-align: right;\n",
       "    }\n",
       "</style>\n",
       "<table border=\"1\" class=\"dataframe\">\n",
       "  <thead>\n",
       "    <tr style=\"text-align: right;\">\n",
       "      <th></th>\n",
       "      <th>job_name</th>\n",
       "      <th>publicated_in</th>\n",
       "      <th>salary</th>\n",
       "      <th>n_jobs</th>\n",
       "      <th>city</th>\n",
       "      <th>description</th>\n",
       "      <th>python</th>\n",
       "    </tr>\n",
       "  </thead>\n",
       "  <tbody>\n",
       "    <tr>\n",
       "      <th>3</th>\n",
       "      <td>Cientista de Dados</td>\n",
       "      <td>quinta, 16/04</td>\n",
       "      <td>A Combinar</td>\n",
       "      <td>São Paulo-SP(1)</td>\n",
       "      <td>&lt;NA&gt;</td>\n",
       "      <td>Linguagens Python ou R - Estatística básica: c...</td>\n",
       "      <td>1</td>\n",
       "    </tr>\n",
       "    <tr>\n",
       "      <th>15</th>\n",
       "      <td>Cientista de Dados / Spark / Python Sênior</td>\n",
       "      <td>sexta, 06/03</td>\n",
       "      <td>A Combinar</td>\n",
       "      <td>1 vaga:</td>\n",
       "      <td>São Paulo-SP(1)</td>\n",
       "      <td>Data Science utilizando Spark e Python. Modelo...</td>\n",
       "      <td>1</td>\n",
       "    </tr>\n",
       "  </tbody>\n",
       "</table>\n",
       "</div>"
      ],
      "text/plain": [
       "                                      job_name  publicated_in      salary  \\\n",
       "3                           Cientista de Dados  quinta, 16/04  A Combinar   \n",
       "15  Cientista de Dados / Spark / Python Sênior   sexta, 06/03  A Combinar   \n",
       "\n",
       "             n_jobs             city  \\\n",
       "3   São Paulo-SP(1)             <NA>   \n",
       "15          1 vaga:  São Paulo-SP(1)   \n",
       "\n",
       "                                          description  python  \n",
       "3   Linguagens Python ou R - Estatística básica: c...       1  \n",
       "15  Data Science utilizando Spark e Python. Modelo...       1  "
      ]
     },
     "execution_count": 37,
     "metadata": {},
     "output_type": "execute_result"
    }
   ],
   "source": [
    "all_jobs[all_jobs['python'] == 1]"
   ]
  }
 ],
 "metadata": {
  "kernelspec": {
   "display_name": "Python 3",
   "language": "python",
   "name": "python3"
  },
  "toc": {
   "base_numbering": 1,
   "nav_menu": {},
   "number_sections": true,
   "sideBar": true,
   "skip_h1_title": false,
   "title_cell": "Table of Contents",
   "title_sidebar": "Contents",
   "toc_cell": false,
   "toc_position": {},
   "toc_section_display": true,
   "toc_window_display": false
  },
  "varInspector": {
   "cols": {
    "lenName": 16,
    "lenType": 16,
    "lenVar": 40
   },
   "kernels_config": {
    "python": {
     "delete_cmd_postfix": "",
     "delete_cmd_prefix": "del ",
     "library": "var_list.py",
     "varRefreshCmd": "print(var_dic_list())"
    },
    "r": {
     "delete_cmd_postfix": ") ",
     "delete_cmd_prefix": "rm(",
     "library": "var_list.r",
     "varRefreshCmd": "cat(var_dic_list()) "
    }
   },
   "types_to_exclude": [
    "module",
    "function",
    "builtin_function_or_method",
    "instance",
    "_Feature"
   ],
   "window_display": false
  }
 },
 "nbformat": 4,
 "nbformat_minor": 2
}

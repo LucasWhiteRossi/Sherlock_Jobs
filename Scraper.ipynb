{
 "cells": [
  {
   "cell_type": "code",
   "execution_count": 2,
   "metadata": {
    "ExecuteTime": {
     "end_time": "2020-04-27T01:58:38.369095Z",
     "start_time": "2020-04-27T01:58:35.865497Z"
    }
   },
   "outputs": [],
   "source": [
    "# System\n",
    "import pandas as pd\n",
    "import numpy as np\n",
    "import time\n",
    "from selenium import webdriver"
   ]
  },
  {
   "cell_type": "code",
   "execution_count": 3,
   "metadata": {
    "ExecuteTime": {
     "end_time": "2020-04-27T01:58:38.405023Z",
     "start_time": "2020-04-27T01:58:38.397029Z"
    }
   },
   "outputs": [],
   "source": [
    "#Params\n",
    "\n",
    "driver_path = '../chromedriver_win32/chromedriver.exe'\n",
    "\n",
    "url = 'https://www.catho.com.br/vagas'\n",
    "\n",
    "#job_to_search = input('Escreva a vaga procurada.')\n",
    "#city_or_region = input('Escreva a cidade, estado ou região de interesse.')\n",
    "\n",
    "job_to_search = 'Cientista de Dados'\n",
    "\n",
    "city_or_region = 'São Paulo'\n",
    "\n",
    "#wage = '8.000'\n"
   ]
  },
  {
   "cell_type": "code",
   "execution_count": 4,
   "metadata": {
    "ExecuteTime": {
     "end_time": "2020-04-27T01:58:45.032658Z",
     "start_time": "2020-04-27T01:58:39.404939Z"
    }
   },
   "outputs": [],
   "source": [
    "# open the chrome browser\n",
    "\n",
    "driver = webdriver.Chrome(executable_path=driver_path)\n",
    "\n",
    "driver.get(url)"
   ]
  },
  {
   "cell_type": "code",
   "execution_count": 5,
   "metadata": {
    "ExecuteTime": {
     "end_time": "2020-04-27T01:58:52.018182Z",
     "start_time": "2020-04-27T01:58:50.178032Z"
    }
   },
   "outputs": [],
   "source": [
    "# Setting search\n",
    "\n",
    "# selecting job_name field and clear remaining entries:\n",
    "job = driver.find_element_by_xpath('/html/body/div[1]/article/div[1]/section/article/form/label/input')\n",
    "job.clear()\n",
    "\n",
    "# writing on the element\n",
    "job.send_keys(job_to_search)\n",
    "\n",
    "# selecting city_State_or_Region field:\n",
    "region = driver.find_element_by_xpath('/html/body/div[1]/article/div[1]/section/article/form/div[1]/input[5]')\n",
    "region.clear()\n",
    "\n",
    "# writing on the element\n",
    "region.send_keys(city_or_region)\n",
    "\n",
    "time.sleep(1)\n",
    "\n",
    "# Selecting the Search Button\n",
    "search_bttn = driver.find_element_by_xpath('/html/body/div[1]/article/div[1]/section/article/form/div[2]/input')\n",
    "search_bttn.click()"
   ]
  },
  {
   "cell_type": "code",
   "execution_count": 6,
   "metadata": {
    "ExecuteTime": {
     "end_time": "2020-04-27T01:59:15.894354Z",
     "start_time": "2020-04-27T01:59:15.883358Z"
    }
   },
   "outputs": [],
   "source": [
    "#web-scraping\n",
    "# Extraction\n",
    "\n",
    "def extractor(seq_num):\n",
    "    \"\"\"\n",
    "    Finds the job description box of number seq_num, extracts it's information and returns pandas DataFrame\n",
    "\n",
    "    \"\"\"\n",
    "    #target = driver.find_element_by_xpath(f'/html/body/div[1]/article/section/ul/li[{seq_num}]/section')\n",
    "    \n",
    "    published = driver.find_element_by_xpath(f'/html/body/div[1]/article/section/ul/li[{seq_num}]/section/div/header/h2/time')\n",
    "    name = driver.find_element_by_xpath(f'/html/body/div[1]/article/section/ul/li[{seq_num}]/section/div/header/h2/a')\n",
    "    salary = driver.find_element_by_xpath(f'/html/body/div[1]/article/section/ul/li[{seq_num}]/section/div/header/h2/div/strong[1]')\n",
    "    n_jobs = driver.find_element_by_xpath(f'/html/body/div[1]/article/section/ul/li[{seq_num}]/section/div/header/h2/div/strong[2]/span[1]')\n",
    "    city = driver.find_element_by_xpath(f'/html/body/div[1]/article/section/ul/li[{seq_num}]/section/div/header/h2/div/strong[2]/span[2]')  \n",
    "    description = driver.find_element_by_xpath(f'/html/body/div[1]/article/section/ul/li[{seq_num}]/section/div/article/div[1]/div')\n",
    "    \n",
    "    return pd.DataFrame({'job_name':[name.text], 'publicated_in':[published.text], 'salary':[salary.text], 'n_jobs':[n_jobs.text], 'city':[city.text], 'description':[description.text]})\n",
    "\n",
    "#_________________________________________________________________________________\n",
    "\n",
    "def move_foward():\n",
    "    \"\"\"\n",
    "    Moves to the next page, if there is any, and returns True. Else, return False.\n",
    "    \"\"\"\n",
    "    try:\n",
    "        a = driver.find_element_by_tag_name('a.arrow.next')\n",
    "        a.click()\n",
    "        return True\n",
    "    except:\n",
    "        return False\n",
    "#___________________________________________________________________________________\n",
    "\n",
    "def page_scanner():\n",
    "    \"\"\"\n",
    "    something\n",
    "    \"\"\"\n",
    "    df1 = extractor(1)\n",
    "\n",
    "    for i in range(2,11):\n",
    "        try:\n",
    "            df1 = pd.concat([df1,extractor(i)]) \n",
    "        except:\n",
    "            pass\n",
    "    \n",
    "    return df1"
   ]
  },
  {
   "cell_type": "code",
   "execution_count": 7,
   "metadata": {
    "ExecuteTime": {
     "end_time": "2020-04-27T02:00:00.530225Z",
     "start_time": "2020-04-27T01:59:28.555849Z"
    }
   },
   "outputs": [],
   "source": [
    "df = page_scanner()\n",
    "\n",
    "condition = move_foward()\n",
    "\n",
    "while condition == True:\n",
    "    try:\n",
    "        df1 = page_scanner()\n",
    "        df = pd.concat([df, df1])\n",
    "        time.sleep(1)\n",
    "        condition = move_foward()\n",
    "    except:\n",
    "        pass\n",
    "    "
   ]
  },
  {
   "cell_type": "code",
   "execution_count": 8,
   "metadata": {
    "ExecuteTime": {
     "end_time": "2020-04-27T02:00:02.790706Z",
     "start_time": "2020-04-27T02:00:02.785702Z"
    },
    "scrolled": true
   },
   "outputs": [],
   "source": [
    "df = df.reset_index(drop=True)"
   ]
  },
  {
   "cell_type": "code",
   "execution_count": 9,
   "metadata": {
    "ExecuteTime": {
     "end_time": "2020-04-27T02:00:04.167101Z",
     "start_time": "2020-04-27T02:00:04.121108Z"
    }
   },
   "outputs": [
    {
     "data": {
      "text/html": [
       "<div>\n",
       "<style scoped>\n",
       "    .dataframe tbody tr th:only-of-type {\n",
       "        vertical-align: middle;\n",
       "    }\n",
       "\n",
       "    .dataframe tbody tr th {\n",
       "        vertical-align: top;\n",
       "    }\n",
       "\n",
       "    .dataframe thead th {\n",
       "        text-align: right;\n",
       "    }\n",
       "</style>\n",
       "<table border=\"1\" class=\"dataframe\">\n",
       "  <thead>\n",
       "    <tr style=\"text-align: right;\">\n",
       "      <th></th>\n",
       "      <th>job_name</th>\n",
       "      <th>publicated_in</th>\n",
       "      <th>salary</th>\n",
       "      <th>n_jobs</th>\n",
       "      <th>city</th>\n",
       "      <th>description</th>\n",
       "    </tr>\n",
       "  </thead>\n",
       "  <tbody>\n",
       "    <tr>\n",
       "      <th>0</th>\n",
       "      <td>Cientista de Dados</td>\n",
       "      <td>quinta, 16/04</td>\n",
       "      <td>A Combinar</td>\n",
       "      <td>1 vaga:</td>\n",
       "      <td>São Paulo-SP(1)</td>\n",
       "      <td>Linguagens Python ou R - Estatística básica: c...</td>\n",
       "    </tr>\n",
       "    <tr>\n",
       "      <th>1</th>\n",
       "      <td>Cientista de Dados</td>\n",
       "      <td>segunda, 13/04</td>\n",
       "      <td>A Combinar</td>\n",
       "      <td>1 vaga:</td>\n",
       "      <td>São Paulo-SP(1)</td>\n",
       "      <td>Description: Our Client focuses on helping cli...</td>\n",
       "    </tr>\n",
       "    <tr>\n",
       "      <th>2</th>\n",
       "      <td>Cientista de Dados</td>\n",
       "      <td>quinta, 19/03</td>\n",
       "      <td>A Combinar</td>\n",
       "      <td>1 vaga:</td>\n",
       "      <td>São Paulo-SP(1)</td>\n",
       "      <td>Somos um time ágil, autônomo, multidisciplinar...</td>\n",
       "    </tr>\n",
       "    <tr>\n",
       "      <th>3</th>\n",
       "      <td>Cientista de Dados</td>\n",
       "      <td>terça, 03/03</td>\n",
       "      <td>A Combinar</td>\n",
       "      <td>1 vaga:</td>\n",
       "      <td>São Paulo-SP(1)</td>\n",
       "      <td>Atuar em empresa multinacional focada em desen...</td>\n",
       "    </tr>\n",
       "    <tr>\n",
       "      <th>4</th>\n",
       "      <td>Cientista de Dados</td>\n",
       "      <td>sexta, 20/12</td>\n",
       "      <td>A Combinar</td>\n",
       "      <td>1 vaga:</td>\n",
       "      <td>São Paulo-SP(1)</td>\n",
       "      <td>Produzir análises detalhadas, por meio da inte...</td>\n",
       "    </tr>\n",
       "    <tr>\n",
       "      <th>...</th>\n",
       "      <td>...</td>\n",
       "      <td>...</td>\n",
       "      <td>...</td>\n",
       "      <td>...</td>\n",
       "      <td>...</td>\n",
       "      <td>...</td>\n",
       "    </tr>\n",
       "    <tr>\n",
       "      <th>75</th>\n",
       "      <td>Coordenador de Business Intelligence</td>\n",
       "      <td>quarta, 15/01</td>\n",
       "      <td>A Combinar</td>\n",
       "      <td>1 vaga:</td>\n",
       "      <td>Ribeirão Preto-SP(1)</td>\n",
       "      <td>Profissional será responsável pela Área de B.I...</td>\n",
       "    </tr>\n",
       "    <tr>\n",
       "      <th>76</th>\n",
       "      <td>Cientista de Dados</td>\n",
       "      <td>quarta, 01/04</td>\n",
       "      <td>A Combinar</td>\n",
       "      <td>1 vaga:</td>\n",
       "      <td>Vinhedo-SP(1)</td>\n",
       "      <td>Precisamos de você, Cientista de Dados que tem...</td>\n",
       "    </tr>\n",
       "    <tr>\n",
       "      <th>77</th>\n",
       "      <td>Cientista de Dados</td>\n",
       "      <td>quinta, 12/03</td>\n",
       "      <td>A Combinar</td>\n",
       "      <td>1 vaga:</td>\n",
       "      <td>Ribeirão Preto-SP(1)</td>\n",
       "      <td>Participar ativamente de diversas iniciativas ...</td>\n",
       "    </tr>\n",
       "    <tr>\n",
       "      <th>78</th>\n",
       "      <td>Cientista de Dados</td>\n",
       "      <td>segunda, 02/03</td>\n",
       "      <td>A Combinar</td>\n",
       "      <td>1 vaga:</td>\n",
       "      <td>Campinas-SP(1)</td>\n",
       "      <td>Elaboração, implantação e manutenção de modelo...</td>\n",
       "    </tr>\n",
       "    <tr>\n",
       "      <th>79</th>\n",
       "      <td>Analista de Business Intelligence</td>\n",
       "      <td>quarta, 15/04</td>\n",
       "      <td>A Combinar</td>\n",
       "      <td>1 vaga:</td>\n",
       "      <td>São Paulo-SP(1)</td>\n",
       "      <td>Avaliar e analisar concorrentes. Realizar pesq...</td>\n",
       "    </tr>\n",
       "  </tbody>\n",
       "</table>\n",
       "<p>80 rows × 6 columns</p>\n",
       "</div>"
      ],
      "text/plain": [
       "                                job_name   publicated_in      salary   n_jobs  \\\n",
       "0                     Cientista de Dados   quinta, 16/04  A Combinar  1 vaga:   \n",
       "1                     Cientista de Dados  segunda, 13/04  A Combinar  1 vaga:   \n",
       "2                     Cientista de Dados   quinta, 19/03  A Combinar  1 vaga:   \n",
       "3                     Cientista de Dados    terça, 03/03  A Combinar  1 vaga:   \n",
       "4                     Cientista de Dados    sexta, 20/12  A Combinar  1 vaga:   \n",
       "..                                   ...             ...         ...      ...   \n",
       "75  Coordenador de Business Intelligence   quarta, 15/01  A Combinar  1 vaga:   \n",
       "76                    Cientista de Dados   quarta, 01/04  A Combinar  1 vaga:   \n",
       "77                    Cientista de Dados   quinta, 12/03  A Combinar  1 vaga:   \n",
       "78                    Cientista de Dados  segunda, 02/03  A Combinar  1 vaga:   \n",
       "79     Analista de Business Intelligence   quarta, 15/04  A Combinar  1 vaga:   \n",
       "\n",
       "                    city                                        description  \n",
       "0        São Paulo-SP(1)  Linguagens Python ou R - Estatística básica: c...  \n",
       "1        São Paulo-SP(1)  Description: Our Client focuses on helping cli...  \n",
       "2        São Paulo-SP(1)  Somos um time ágil, autônomo, multidisciplinar...  \n",
       "3        São Paulo-SP(1)  Atuar em empresa multinacional focada em desen...  \n",
       "4        São Paulo-SP(1)  Produzir análises detalhadas, por meio da inte...  \n",
       "..                   ...                                                ...  \n",
       "75  Ribeirão Preto-SP(1)  Profissional será responsável pela Área de B.I...  \n",
       "76         Vinhedo-SP(1)  Precisamos de você, Cientista de Dados que tem...  \n",
       "77  Ribeirão Preto-SP(1)  Participar ativamente de diversas iniciativas ...  \n",
       "78        Campinas-SP(1)  Elaboração, implantação e manutenção de modelo...  \n",
       "79       São Paulo-SP(1)  Avaliar e analisar concorrentes. Realizar pesq...  \n",
       "\n",
       "[80 rows x 6 columns]"
      ]
     },
     "execution_count": 9,
     "metadata": {},
     "output_type": "execute_result"
    }
   ],
   "source": [
    "df"
   ]
  },
  {
   "cell_type": "code",
   "execution_count": 10,
   "metadata": {
    "ExecuteTime": {
     "end_time": "2020-04-27T02:00:13.029749Z",
     "start_time": "2020-04-27T02:00:13.023755Z"
    }
   },
   "outputs": [
    {
     "data": {
      "text/plain": [
       "(80, 6)"
      ]
     },
     "execution_count": 10,
     "metadata": {},
     "output_type": "execute_result"
    }
   ],
   "source": [
    "df.shape"
   ]
  },
  {
   "cell_type": "code",
   "execution_count": 11,
   "metadata": {
    "ExecuteTime": {
     "end_time": "2020-04-27T02:00:14.161737Z",
     "start_time": "2020-04-27T02:00:14.155741Z"
    }
   },
   "outputs": [],
   "source": [
    "df['python'] = df['description'].apply(lambda x: 1 if 'python' in x.lower() else 0)"
   ]
  },
  {
   "cell_type": "code",
   "execution_count": 12,
   "metadata": {
    "ExecuteTime": {
     "end_time": "2020-04-27T02:00:15.249295Z",
     "start_time": "2020-04-27T02:00:15.233302Z"
    }
   },
   "outputs": [
    {
     "data": {
      "text/html": [
       "<div>\n",
       "<style scoped>\n",
       "    .dataframe tbody tr th:only-of-type {\n",
       "        vertical-align: middle;\n",
       "    }\n",
       "\n",
       "    .dataframe tbody tr th {\n",
       "        vertical-align: top;\n",
       "    }\n",
       "\n",
       "    .dataframe thead th {\n",
       "        text-align: right;\n",
       "    }\n",
       "</style>\n",
       "<table border=\"1\" class=\"dataframe\">\n",
       "  <thead>\n",
       "    <tr style=\"text-align: right;\">\n",
       "      <th></th>\n",
       "      <th>job_name</th>\n",
       "      <th>publicated_in</th>\n",
       "      <th>salary</th>\n",
       "      <th>n_jobs</th>\n",
       "      <th>city</th>\n",
       "      <th>description</th>\n",
       "      <th>python</th>\n",
       "    </tr>\n",
       "  </thead>\n",
       "  <tbody>\n",
       "    <tr>\n",
       "      <th>0</th>\n",
       "      <td>Cientista de Dados</td>\n",
       "      <td>quinta, 16/04</td>\n",
       "      <td>A Combinar</td>\n",
       "      <td>1 vaga:</td>\n",
       "      <td>São Paulo-SP(1)</td>\n",
       "      <td>Linguagens Python ou R - Estatística básica: c...</td>\n",
       "      <td>1</td>\n",
       "    </tr>\n",
       "    <tr>\n",
       "      <th>10</th>\n",
       "      <td>Cientista de Dados</td>\n",
       "      <td>quinta, 16/04</td>\n",
       "      <td>A Combinar</td>\n",
       "      <td>1 vaga:</td>\n",
       "      <td>São Paulo-SP(1)</td>\n",
       "      <td>Linguagens Python ou R - Estatística básica: c...</td>\n",
       "      <td>1</td>\n",
       "    </tr>\n",
       "    <tr>\n",
       "      <th>17</th>\n",
       "      <td>Cientista de Dados / Spark / Python Sênior</td>\n",
       "      <td>sexta, 06/03</td>\n",
       "      <td>A Combinar</td>\n",
       "      <td>1 vaga:</td>\n",
       "      <td>São Paulo-SP(1)</td>\n",
       "      <td>Data Science utilizando Spark e Python. Modelo...</td>\n",
       "      <td>1</td>\n",
       "    </tr>\n",
       "  </tbody>\n",
       "</table>\n",
       "</div>"
      ],
      "text/plain": [
       "                                      job_name  publicated_in      salary  \\\n",
       "0                           Cientista de Dados  quinta, 16/04  A Combinar   \n",
       "10                          Cientista de Dados  quinta, 16/04  A Combinar   \n",
       "17  Cientista de Dados / Spark / Python Sênior   sexta, 06/03  A Combinar   \n",
       "\n",
       "     n_jobs             city  \\\n",
       "0   1 vaga:  São Paulo-SP(1)   \n",
       "10  1 vaga:  São Paulo-SP(1)   \n",
       "17  1 vaga:  São Paulo-SP(1)   \n",
       "\n",
       "                                          description  python  \n",
       "0   Linguagens Python ou R - Estatística básica: c...       1  \n",
       "10  Linguagens Python ou R - Estatística básica: c...       1  \n",
       "17  Data Science utilizando Spark e Python. Modelo...       1  "
      ]
     },
     "execution_count": 12,
     "metadata": {},
     "output_type": "execute_result"
    }
   ],
   "source": [
    "df[df['python'] == 1]"
   ]
  },
  {
   "cell_type": "code",
   "execution_count": 13,
   "metadata": {
    "ExecuteTime": {
     "end_time": "2020-04-27T02:00:29.352279Z",
     "start_time": "2020-04-27T02:00:29.346271Z"
    }
   },
   "outputs": [
    {
     "data": {
      "text/plain": [
       "array(['A Combinar', 'R$ 7.000,00', 'R$ 3.500,00',\n",
       "       'De R$ 5.001,00 a R$ 6.000,00', 'R$ 4.000,01',\n",
       "       'De R$ 4.001,00 a R$ 5.000,00', 'De R$ 2.001,00 a R$ 3.000,00',\n",
       "       'De R$ 10.001,00 a R$ 15.000,00', 'De R$ 6.001,00 a R$ 7.000,00',\n",
       "       'De R$ 8.001,00 a R$ 9.000,00'], dtype=object)"
      ]
     },
     "execution_count": 13,
     "metadata": {},
     "output_type": "execute_result"
    }
   ],
   "source": [
    "df['salary'].unique()"
   ]
  },
  {
   "cell_type": "code",
   "execution_count": 14,
   "metadata": {
    "ExecuteTime": {
     "end_time": "2020-04-27T02:00:31.565282Z",
     "start_time": "2020-04-27T02:00:31.551291Z"
    }
   },
   "outputs": [
    {
     "data": {
      "text/html": [
       "<div>\n",
       "<style scoped>\n",
       "    .dataframe tbody tr th:only-of-type {\n",
       "        vertical-align: middle;\n",
       "    }\n",
       "\n",
       "    .dataframe tbody tr th {\n",
       "        vertical-align: top;\n",
       "    }\n",
       "\n",
       "    .dataframe thead th {\n",
       "        text-align: right;\n",
       "    }\n",
       "</style>\n",
       "<table border=\"1\" class=\"dataframe\">\n",
       "  <thead>\n",
       "    <tr style=\"text-align: right;\">\n",
       "      <th></th>\n",
       "      <th>job_name</th>\n",
       "      <th>publicated_in</th>\n",
       "      <th>salary</th>\n",
       "      <th>n_jobs</th>\n",
       "      <th>city</th>\n",
       "      <th>description</th>\n",
       "      <th>python</th>\n",
       "    </tr>\n",
       "  </thead>\n",
       "  <tbody>\n",
       "    <tr>\n",
       "      <th>51</th>\n",
       "      <td>Coordenador de Business Intelligence</td>\n",
       "      <td>sexta, 13/03</td>\n",
       "      <td>De R$ 10.001,00 a R$ 15.000,00</td>\n",
       "      <td>1 vaga:</td>\n",
       "      <td>São Paulo-SP(1)</td>\n",
       "      <td>Captação, gestão e tratamento de dados relacio...</td>\n",
       "      <td>0</td>\n",
       "    </tr>\n",
       "  </tbody>\n",
       "</table>\n",
       "</div>"
      ],
      "text/plain": [
       "                                job_name publicated_in  \\\n",
       "51  Coordenador de Business Intelligence  sexta, 13/03   \n",
       "\n",
       "                            salary   n_jobs             city  \\\n",
       "51  De R$ 10.001,00 a R$ 15.000,00  1 vaga:  São Paulo-SP(1)   \n",
       "\n",
       "                                          description  python  \n",
       "51  Captação, gestão e tratamento de dados relacio...       0  "
      ]
     },
     "execution_count": 14,
     "metadata": {},
     "output_type": "execute_result"
    }
   ],
   "source": [
    "df[df['salary']=='De R$ 10.001,00 a R$ 15.000,00']"
   ]
  }
 ],
 "metadata": {
  "kernelspec": {
   "display_name": "Python 3",
   "language": "python",
   "name": "python3"
  },
  "language_info": {
   "codemirror_mode": {
    "name": "ipython",
    "version": 3
   },
   "file_extension": ".py",
   "mimetype": "text/x-python",
   "name": "python",
   "nbconvert_exporter": "python",
   "pygments_lexer": "ipython3",
   "version": "3.7.3"
  },
  "toc": {
   "base_numbering": 1,
   "nav_menu": {},
   "number_sections": true,
   "sideBar": true,
   "skip_h1_title": false,
   "title_cell": "Table of Contents",
   "title_sidebar": "Contents",
   "toc_cell": false,
   "toc_position": {},
   "toc_section_display": true,
   "toc_window_display": false
  },
  "varInspector": {
   "cols": {
    "lenName": 16,
    "lenType": 16,
    "lenVar": 40
   },
   "kernels_config": {
    "python": {
     "delete_cmd_postfix": "",
     "delete_cmd_prefix": "del ",
     "library": "var_list.py",
     "varRefreshCmd": "print(var_dic_list())"
    },
    "r": {
     "delete_cmd_postfix": ") ",
     "delete_cmd_prefix": "rm(",
     "library": "var_list.r",
     "varRefreshCmd": "cat(var_dic_list()) "
    }
   },
   "types_to_exclude": [
    "module",
    "function",
    "builtin_function_or_method",
    "instance",
    "_Feature"
   ],
   "window_display": false
  }
 },
 "nbformat": 4,
 "nbformat_minor": 2
}
